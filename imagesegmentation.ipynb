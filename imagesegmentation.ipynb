{
  "nbformat": 4,
  "nbformat_minor": 0,
  "metadata": {
    "language_info": {
      "name": "python",
      "codemirror_mode": {
        "name": "ipython",
        "version": 3
      },
      "version": "3.7.4-final"
    },
    "orig_nbformat": 2,
    "file_extension": ".py",
    "mimetype": "text/x-python",
    "name": "python",
    "npconvert_exporter": "python",
    "pygments_lexer": "ipython3",
    "version": 3,
    "kernelspec": {
      "name": "python37464bitbaseconda7cc3f264910a4551b5d06e300effc338",
      "display_name": "Python 3.7.4 64-bit ('base': conda)"
    },
    "colab": {
      "name": "imagesegmentation.ipynb",
      "provenance": [],
      "include_colab_link": true
    }
  },
  "cells": [
    {
      "cell_type": "markdown",
      "metadata": {
        "id": "view-in-github",
        "colab_type": "text"
      },
      "source": [
        "<a href=\"https://colab.research.google.com/github/jyotidabass/Image-segmentation_bird/blob/main/imagesegmentation.ipynb\" target=\"_parent\"><img src=\"https://colab.research.google.com/assets/colab-badge.svg\" alt=\"Open In Colab\"/></a>"
      ]
    },
    {
      "cell_type": "code",
      "execution_count": null,
      "metadata": {
        "id": "QL19gCg89NzA",
        "outputId": "33496752-1165-4e03-d39e-ce0580c3e04f"
      },
      "outputs": [
        {
          "output_type": "stream",
          "name": "stderr",
          "text": "Downloading: \"https://download.pytorch.org/models/resnet101-5d3b4d8f.pth\" to /home/farhan/.cache/torch/checkpoints/resnet101-5d3b4d8f.pth\n100%|██████████| 170M/170M [01:11<00:00, 2.50MB/s]\nDownloading: \"https://download.pytorch.org/models/fcn_resnet101_coco-7ecb50ca.pth\" to /home/farhan/.cache/torch/checkpoints/fcn_resnet101_coco-7ecb50ca.pth\n100%|██████████| 208M/208M [00:56<00:00, 3.85MB/s]\n"
        }
      ],
      "source": [
        "# Loding a fully convolutional network from torchvision.\n",
        "\n",
        "from torchvision import models\n",
        "fcn = models.segmentation.fcn_resnet101(pretrained=True).eval()"
      ]
    },
    {
      "cell_type": "code",
      "execution_count": null,
      "metadata": {
        "id": "WKbl81T19NzC",
        "outputId": "09c7ada5-1c88-444e-d214-f6befd3757ba"
      },
      "outputs": [
        {
          "output_type": "display_data",
          "data": {
            "text/plain": "<Figure size 640x480 with 1 Axes>"
          },
          "metadata": {}
        }
      ],
      "source": [
        "# Loading the image from external link.\n",
        "from PIL import Image\n",
        "import matplotlib.pyplot as plt\n",
        "from urllib.request import urlopen\n",
        "import torch\n",
        "\n",
        "url='https://static.independent.co.uk/s3fs-public/thumbnails/image/2018/04/10/19/pinyon-jay-bird.jpg'\n",
        "img = Image.open(urlopen(url))\n",
        "plt.imshow(img); plt.show()"
      ]
    },
    {
      "cell_type": "code",
      "execution_count": null,
      "metadata": {
        "id": "3d1e-xui9NzD"
      },
      "outputs": [],
      "source": [
        "import torchvision.transforms as T\n",
        "\n",
        "#preprocessing and normalizing\n",
        "trf = T.Compose([T.Resize(256),\n",
        "                 T.CenterCrop(224),\n",
        "                 T.ToTensor(), \n",
        "                 T.Normalize(mean = [0.485, 0.456, 0.406], \n",
        "                             std = [0.229, 0.224, 0.225])])\n",
        "inp = trf(img).unsqueeze(0)"
      ]
    },
    {
      "cell_type": "code",
      "execution_count": null,
      "metadata": {
        "id": "WbKGyBxq9NzD",
        "outputId": "662fe1a2-d4ef-4dbf-810b-23ce25897a83"
      },
      "outputs": [
        {
          "output_type": "stream",
          "name": "stdout",
          "text": "torch.Size([1, 21, 224, 224])\n"
        }
      ],
      "source": [
        "# passing the input through the cnn model(net)\n",
        "out = fcn(inp)['out']\n",
        "print (out.shape)"
      ]
    },
    {
      "cell_type": "code",
      "execution_count": null,
      "metadata": {
        "id": "VNe-IW3n9NzE",
        "outputId": "aeca6bd9-3ca2-4b5c-fa7a-a8bbf62c73ab"
      },
      "outputs": [
        {
          "output_type": "stream",
          "name": "stdout",
          "text": "(224, 224)\n[0 3]\n"
        }
      ],
      "source": [
        "import numpy as np\n",
        "# making necessary mathematical changes.\n",
        "om = torch.argmax(out.squeeze(), dim=0).detach().cpu().numpy()\n",
        "print (om.shape)\n",
        "print (np.unique(om))"
      ]
    },
    {
      "cell_type": "code",
      "execution_count": null,
      "metadata": {
        "id": "svvO4feQ9NzE"
      },
      "outputs": [],
      "source": [
        "# converting 2D image to RGB image\n",
        "def decode_segmap(image, nc=21):\n",
        "  \n",
        "  label_colors = np.array([(0, 0, 0),  # 0=background\n",
        "               # 1=aeroplane, 2=bicycle, 3=bird, 4=boat, 5=bottle\n",
        "               (128, 0, 0), (0, 128, 0), (128, 128, 0), (0, 0, 128), (128, 0, 128),\n",
        "               # 6=bus, 7=car, 8=cat, 9=chair, 10=cow\n",
        "               (0, 128, 128), (128, 128, 128), (64, 0, 0), (192, 0, 0), (64, 128, 0),\n",
        "               # 11=dining table, 12=dog, 13=horse, 14=motorbike, 15=person\n",
        "               (192, 128, 0), (64, 0, 128), (192, 0, 128), (64, 128, 128), (192, 128, 128),\n",
        "               # 16=potted plant, 17=sheep, 18=sofa, 19=train, 20=tv/monitor\n",
        "               (0, 64, 0), (128, 64, 0), (0, 192, 0), (128, 192, 0), (0, 64, 128)])\n",
        "\n",
        "  r = np.zeros_like(image).astype(np.uint8)\n",
        "  g = np.zeros_like(image).astype(np.uint8)\n",
        "  b = np.zeros_like(image).astype(np.uint8)\n",
        "  \n",
        "  for l in range(0, nc):\n",
        "    idx = image == l\n",
        "    r[idx] = label_colors[l, 0]\n",
        "    g[idx] = label_colors[l, 1]\n",
        "    b[idx] = label_colors[l, 2]\n",
        "    \n",
        "  rgb = np.stack([r, g, b], axis=2)\n",
        "  return rgb"
      ]
    },
    {
      "cell_type": "code",
      "execution_count": null,
      "metadata": {
        "id": "AQA3lJ-r9NzF",
        "outputId": "6561987e-7165-47fa-c3a4-744518bbe57e"
      },
      "outputs": [
        {
          "output_type": "display_data",
          "data": {
            "text/plain": "<Figure size 432x288 with 1 Axes>",
            "image/png": "[encoded data removed]"
          },
          "metadata": {
            "needs_background": "light"
          }
        }
      ],
      "source": [
        "# Viewing the final segmentation output\n",
        "\n",
        "rgb = decode_segmap(om)\n",
        "plt.imshow(rgb); plt.show()"
      ]
    }
  ]
}